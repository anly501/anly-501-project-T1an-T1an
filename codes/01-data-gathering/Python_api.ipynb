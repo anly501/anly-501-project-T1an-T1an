{
 "cells": [
  {
   "cell_type": "code",
   "execution_count": 1,
   "id": "aa7062d2",
   "metadata": {},
   "outputs": [],
   "source": [
    "import requests\n",
    "import pandas as pd\n",
    "import numpy as np\n",
    "import datetime\n",
    "pd.set_option('display.float_format',lambda x : '%.6f'%x)\n",
    "import warnings\n",
    "warnings.filterwarnings('ignore')"
   ]
  },
  {
   "cell_type": "code",
   "execution_count": 13,
   "id": "9090fce8",
   "metadata": {},
   "outputs": [],
   "source": [
    "#/markets/{market_name}/candles?resolution={resolution}&start_time={start_time}&end_time={end_time}\n",
    "resolution = 60*60*24"
   ]
  },
  {
   "cell_type": "code",
   "execution_count": 14,
   "id": "881f2439",
   "metadata": {},
   "outputs": [],
   "source": [
    "#imput date\n",
    "start= datetime.datetime(2021,8,31).timestamp() #start date （earlier than the date I need）\n",
    "end=datetime.datetime(2022,8,31).timestamp()#end date"
   ]
  },
  {
   "cell_type": "code",
   "execution_count": 15,
   "id": "8ac73ca3",
   "metadata": {},
   "outputs": [
    {
     "data": {
      "text/plain": [
       "'https://ftx.com/api/markets/BTC/USD/candles?resolution=86400&start_time=1630382400.0&end_time=1661918400.0'"
      ]
     },
     "execution_count": 15,
     "metadata": {},
     "output_type": "execute_result"
    }
   ],
   "source": [
    "# imput cryptocurrency name you need\n",
    "market_name ='BTC/USD'\n",
    "api_url='https://ftx.com/api'\n",
    "path = f'/markets/{market_name}/candles?resolution={resolution}&start_time={start}&end_time={end}'\n",
    "url = api_url + path\n",
    "url"
   ]
  },
  {
   "cell_type": "code",
   "execution_count": 16,
   "id": "9c03661c",
   "metadata": {},
   "outputs": [],
   "source": [
    "res = requests.get(url).json()\n",
    "df = pd.DataFrame(res['result'])\n",
    "df = df.drop(columns = ['time'])\n",
    "df['exchange']=market_name"
   ]
  },
  {
   "cell_type": "code",
   "execution_count": 17,
   "id": "1885a5ed",
   "metadata": {},
   "outputs": [],
   "source": [
    "#basic data cleaning\n",
    "def get_single_data(currency):\n",
    "    market_name = currency\n",
    "    api_url='https://ftx.com/api'\n",
    "    path = f'/markets/{market_name}/candles?resolution={resolution}&start_time={start}&end_time={end}'\n",
    "    url = api_url + path\n",
    "    res = requests.get(url).json()\n",
    "    df = pd.DataFrame(res['result'])\n",
    "    df = df.drop(columns = ['time'])\n",
    "    df['exchange']=market_name\n",
    "\n",
    "    return df"
   ]
  },
  {
   "cell_type": "code",
   "execution_count": 18,
   "id": "3464f415",
   "metadata": {},
   "outputs": [],
   "source": [
    "d1=get_single_data('BTC/USD')\n",
    "d2=get_single_data('ETH/USD')\n",
    "d3=get_single_data('DOGE/USD')\n",
    "d4=get_single_data('XRP/USD')\n",
    "d5=get_single_data('SHIB/USD')\n",
    "d6=get_single_data('LRC-PERP')\n",
    "d7=get_single_data('APE-PERP')\n",
    "d8=get_single_data('ENJ-PERP')\n",
    "d9=get_single_data('COMP-PERP')\n",
    "d10=get_single_data('AAVE-PERP')\n",
    "d11=get_single_data('AXS-PERP')\n",
    "d12=get_single_data('MKR-PERP')\n",
    "d13=get_single_data('CHZ-PERP')\n",
    "d14=get_single_data('OMG-PERP')\n",
    "d15=get_single_data('SAND-PERP')\n",
    "d16=get_single_data('DOT-PERP')\n",
    "d17=get_single_data('SHIB-PERP')\n",
    "d18=get_single_data('ADA-PERP')\n",
    "d19=get_single_data('DYDX-PERP')\n",
    "d20=get_single_data('DOGE-PERP')\n",
    "d21=get_single_data('YFI-PERP')\n",
    "d22=get_single_data('GALA-PERP')\n",
    "d23=get_single_data('LINK-PERP')\n",
    "d24=get_single_data('FTM-PERP')\n",
    "d25=get_single_data('UNI-PERP')\n",
    "d26=get_single_data('SUSHI-PERP')\n"
   ]
  },
  {
   "cell_type": "code",
   "execution_count": 19,
   "id": "60408bb7",
   "metadata": {},
   "outputs": [],
   "source": [
    "\n",
    "final=d1.append([d2,d3,d4,d5,d6,d7,d8,d9,d10,d11,d12,d13,d14,d15,d16,d17,d18,d19,d20,d21,d22,d23,d24,d25,d26])"
   ]
  },
  {
   "cell_type": "code",
   "execution_count": 20,
   "id": "beb4dc91",
   "metadata": {},
   "outputs": [],
   "source": [
    "#import data to a xlsx file\n",
    "\n",
    "final.to_excel(excel_writer = r\"/Users/jingdayang/Desktop/ftxprop_market_data.xlsx\",index=False)"
   ]
  }
 ],
 "metadata": {
  "kernelspec": {
   "display_name": "Python 3.9.7 ('base')",
   "language": "python",
   "name": "python3"
  },
  "language_info": {
   "codemirror_mode": {
    "name": "ipython",
    "version": 3
   },
   "file_extension": ".py",
   "mimetype": "text/x-python",
   "name": "python",
   "nbconvert_exporter": "python",
   "pygments_lexer": "ipython3",
   "version": "3.9.7"
  },
  "vscode": {
   "interpreter": {
    "hash": "00de62356425f4ce44b94c847f58befa4408444cfef51d91ba7eaab58b75b37a"
   }
  }
 },
 "nbformat": 4,
 "nbformat_minor": 5
}
