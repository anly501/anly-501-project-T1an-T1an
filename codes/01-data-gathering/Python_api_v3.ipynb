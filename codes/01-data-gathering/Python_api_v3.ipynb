{
 "cells": [
  {
   "cell_type": "code",
   "execution_count": 1,
   "id": "aa7062d2",
   "metadata": {},
   "outputs": [],
   "source": [
    "import requests\n",
    "import pandas as pd\n",
    "import numpy as np\n",
    "import datetime\n",
    "import warnings\n",
    "warnings.filterwarnings('ignore')"
   ]
  },
  {
   "cell_type": "code",
   "execution_count": 2,
   "id": "9090fce8",
   "metadata": {},
   "outputs": [],
   "source": [
    "#/markets/{market_name}/candles?resolution={resolution}&start_time={start_time}&end_time={end_time}\n",
    "resolution = 60*60*24"
   ]
  },
  {
   "cell_type": "code",
   "execution_count": 3,
   "id": "881f2439",
   "metadata": {},
   "outputs": [],
   "source": [
    "#imput date\n",
    "start= datetime.datetime(2021,8,31).timestamp() #start date （earlier than the date I need）\n",
    "end=datetime.datetime(2022,8,31).timestamp()#end date"
   ]
  },
  {
   "cell_type": "code",
   "execution_count": 4,
   "id": "8ac73ca3",
   "metadata": {},
   "outputs": [
    {
     "data": {
      "text/plain": [
       "'https://ftx.com/api/markets/BTC/USD/candles?resolution=86400&start_time=1630382400.0&end_time=1661918400.0'"
      ]
     },
     "execution_count": 4,
     "metadata": {},
     "output_type": "execute_result"
    }
   ],
   "source": [
    "# get single coin url\n",
    "market_name ='BTC/USD'\n",
    "api_url='https://ftx.com/api'\n",
    "path = f'/markets/{market_name}/candles?resolution={resolution}&start_time={start}&end_time={end}'\n",
    "url = api_url + path\n",
    "url"
   ]
  },
  {
   "cell_type": "code",
   "execution_count": 5,
   "id": "1885a5ed",
   "metadata": {},
   "outputs": [],
   "source": [
    "# imput single cryptocurrency name you need\n",
    "def get_single_data(currency):\n",
    "    market_name = currency\n",
    "    api_url='https://ftx.com/api'\n",
    "    path = f'/markets/{market_name}/candles?resolution={resolution}&start_time={start}&end_time={end}'\n",
    "    url = api_url + path\n",
    "    res = requests.get(url).json()\n",
    "    df = pd.DataFrame(res['result'])\n",
    "    df['exchange']=market_name\n",
    "\n",
    "    return df"
   ]
  },
  {
   "cell_type": "markdown",
   "id": "7cbe8749",
   "metadata": {},
   "source": [
    "\n",
    "Obtain top 10 coin info according to coinmarket rank."
   ]
  },
  {
   "cell_type": "code",
   "execution_count": 6,
   "id": "3464f415",
   "metadata": {},
   "outputs": [],
   "source": [
    "d1=get_single_data('BTC/USD')\n",
    "d2=get_single_data('ETH/USD')\n",
    "d3=get_single_data('XRP/USD')\n",
    "d4=get_single_data('AVAX/USD')\n",
    "d5=get_single_data('SOL/USD')\n",
    "d6=get_single_data('DOGE/USD')\n",
    "d7=get_single_data('DOT/USD')\n",
    "d8=get_single_data('DAI/USD')\n",
    "d9=get_single_data('UNI/USD')\n",
    "d10=get_single_data('LINK/USD')\n",
    "final=d1.append([d2,d3,d4,d5,d6,d7,d8,d9,d10])"
   ]
  },
  {
   "cell_type": "code",
   "execution_count": 7,
   "id": "0a5b9f9c",
   "metadata": {},
   "outputs": [],
   "source": [
    "final.to_csv('/Users/jingdayang/anly-501-project-T1an-T1an/data/00-raw-data/raw_data_ftxprop_market_data.csv', index=False)\n"
   ]
  }
 ],
 "metadata": {
  "kernelspec": {
   "display_name": "Python 3.9.7 ('base')",
   "language": "python",
   "name": "python3"
  },
  "language_info": {
   "codemirror_mode": {
    "name": "ipython",
    "version": 3
   },
   "file_extension": ".py",
   "mimetype": "text/x-python",
   "name": "python",
   "nbconvert_exporter": "python",
   "pygments_lexer": "ipython3",
   "version": "3.9.7"
  },
  "vscode": {
   "interpreter": {
    "hash": "00de62356425f4ce44b94c847f58befa4408444cfef51d91ba7eaab58b75b37a"
   }
  }
 },
 "nbformat": 4,
 "nbformat_minor": 5
}
