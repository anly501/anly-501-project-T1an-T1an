{
 "cells": [
  {
   "cell_type": "raw",
   "id": "fca0f015",
   "metadata": {},
   "source": [
    "---\n",
    "title: The SVM Method for Twitter API Text Data (NLP)\n",
    "format:\n",
    "  html:\n",
    "    code-fold: true\n",
    "---"
   ]
  },
  {
   "cell_type": "markdown",
   "id": "bea16dc8",
   "metadata": {},
   "source": [
    "#### Methods: What is SVM(Support Vector Machine)? How it works?\n",
    "\n",
    "As a Data Science graduate student and a machine learning enthusiast, SVM is a helpful method in machine learning. For example, if I just have a bunch of data that needs to be solved by SVM method, either Matlab's SVM toolbox, or SciKitLearn in python can provide a convenient and quick solution.\n",
    "\n",
    "But if we want to understand SVM, we will begin with \"KKT...\", \"Lagrangian ...\", \"Maximum interval\" and so on, these terms tend to follow a whole bunch of heavenly formulas, making us feel dizzy for a while. Not to mention how to connect from one formula to another to understand SVM.\n",
    "\n",
    "During training process, the SVM learns the importance of each data point for representing the decision boundary between two categories. Usually only those points that lie on the boundary between the categories are important for defining the decision boundary. These points are called support vectors. If we want to make a prediction for a new sample point, we need to measure the distance between this point and each support vector. The classification decision is made based on its distance from the support vector and the importance of the support vector learned during the training process.\n",
    "\n",
    "Generally speaking, SVM is a method that can divide the samples into two categories！\n",
    "\n",
    "\n",
    "##### Now Using Twitter Data as: \n",
    "\n",
    "\n",
    "I will use Twitter Data, which has 1000+ rows of Text data with Label \"0\" and \"1\". Label column has 0 for a positive attitude and 1 for a negative attitude. I will use two columns named \"final_tweets\" and \"label\" for SVM classification.\n",
    "\n",
    "*Step 1 -Library packages*\n",
    "\n",
    "Library packages for preparing. I will use nltk package for text data cleaning and sklearn package for svm classification."
   ]
  },
  {
   "cell_type": "code",
   "execution_count": 1,
   "id": "b795b732",
   "metadata": {},
   "outputs": [],
   "source": [
    "import pandas as pd\n",
    "import numpy as np\n",
    "import seaborn as sns\n",
    "from nltk.tokenize import word_tokenize\n",
    "from nltk import pos_tag\n",
    "from nltk.corpus import stopwords\n",
    "from nltk.stem import WordNetLemmatizer\n",
    "from sklearn.preprocessing import LabelEncoder\n",
    "from collections import defaultdict\n",
    "from nltk.corpus import wordnet as wn\n",
    "from sklearn.feature_extraction.text import TfidfVectorizer\n",
    "from sklearn import model_selection, naive_bayes, svm\n",
    "from sklearn.metrics import accuracy_score\n",
    "from sklearn.metrics import precision_score\n",
    "from sklearn.metrics import recall_score\n",
    "from sklearn.metrics import ConfusionMatrixDisplay\n",
    "from sklearn.svm import SVC\n",
    "from sklearn.metrics import classification_report, confusion_matrix\n",
    "import matplotlib.pyplot as plt\n",
    "import warnings\n",
    "warnings.filterwarnings('ignore')"
   ]
  },
  {
   "cell_type": "markdown",
   "id": "41892820",
   "metadata": {},
   "source": [
    "*Step 2 - Set random seed*\n",
    "\n",
    "Set random seed to keep the same result."
   ]
  },
  {
   "cell_type": "code",
   "execution_count": 2,
   "id": "5a958db7",
   "metadata": {},
   "outputs": [],
   "source": [
    "np.random.seed(1234)"
   ]
  },
  {
   "cell_type": "markdown",
   "id": "09a746d8",
   "metadata": {},
   "source": [
    "*Step 3 -Import text data*\n",
    "\n",
    "Importing text data using relative file paths, then only use \"final_twitter\" and \"label\" column for classfication. Then I take the first 5 rows of data to see if the criteria are met.\n"
   ]
  },
  {
   "cell_type": "code",
   "execution_count": 3,
   "id": "tbl-planets",
   "metadata": {},
   "outputs": [
    {
     "data": {
      "text/html": [
       "<div>\n",
       "<style scoped>\n",
       "    .dataframe tbody tr th:only-of-type {\n",
       "        vertical-align: middle;\n",
       "    }\n",
       "\n",
       "    .dataframe tbody tr th {\n",
       "        vertical-align: top;\n",
       "    }\n",
       "\n",
       "    .dataframe thead th {\n",
       "        text-align: right;\n",
       "    }\n",
       "</style>\n",
       "<table border=\"1\" class=\"dataframe\">\n",
       "  <thead>\n",
       "    <tr style=\"text-align: right;\">\n",
       "      <th></th>\n",
       "      <th>final_tweets</th>\n",
       "      <th>label</th>\n",
       "    </tr>\n",
       "  </thead>\n",
       "  <tbody>\n",
       "    <tr>\n",
       "      <th>0</th>\n",
       "      <td>TxCompleted I think Id lying I put anything ca...</td>\n",
       "      <td>0</td>\n",
       "    </tr>\n",
       "    <tr>\n",
       "      <th>1</th>\n",
       "      <td>satoshinftclub WHITELIST amp ETH GIVEAWAYx Whi...</td>\n",
       "      <td>0</td>\n",
       "    </tr>\n",
       "    <tr>\n",
       "      <th>2</th>\n",
       "      <td>wl Notice Minting eleveneth cryptobrighton Avn...</td>\n",
       "      <td>0</td>\n",
       "    </tr>\n",
       "    <tr>\n",
       "      <th>3</th>\n",
       "      <td>MoonlitMonkey THOmaximalist THOChain You eth Y...</td>\n",
       "      <td>0</td>\n",
       "    </tr>\n",
       "    <tr>\n",
       "      <th>4</th>\n",
       "      <td>Did know On average BTC million mined daily</td>\n",
       "      <td>1</td>\n",
       "    </tr>\n",
       "  </tbody>\n",
       "</table>\n",
       "</div>"
      ],
      "text/plain": [
       "                                        final_tweets  label\n",
       "0  TxCompleted I think Id lying I put anything ca...      0\n",
       "1  satoshinftclub WHITELIST amp ETH GIVEAWAYx Whi...      0\n",
       "2  wl Notice Minting eleveneth cryptobrighton Avn...      0\n",
       "3  MoonlitMonkey THOmaximalist THOChain You eth Y...      0\n",
       "4        Did know On average BTC million mined daily      1"
      ]
     },
     "execution_count": 3,
     "metadata": {},
     "output_type": "execute_result"
    }
   ],
   "source": [
    "#| label: tbl-planets\n",
    "#| tbl-cap: first 5 row of twitter data\n",
    "txt_data = pd.read_csv(\"../../data/01-modified-data/cleaned_twitter.csv\")\n",
    "data=txt_data.iloc[:,[-2,-1]]\n",
    "data.head()"
   ]
  },
  {
   "cell_type": "code",
   "execution_count": 4,
   "id": "fig-polar",
   "metadata": {},
   "outputs": [
    {
     "data": {
      "image/png": "[encoded data removed]",
      "text/plain": [
       "<Figure size 480x480 with 1 Axes>"
      ]
     },
     "metadata": {
      "image/png": {
       "height": 468,
       "width": 469
      },
      "needs_background": "light"
     },
     "output_type": "display_data"
    }
   ],
   "source": [
    "#| label: fig-polar\n",
    "#| fig-cap: Lable Distribution\n",
    "sns.displot(data['label'])\n",
    "plt.show()"
   ]
  },
  {
   "cell_type": "markdown",
   "id": "96ce9a2d",
   "metadata": {},
   "source": [
    "*Normalized data*\n",
    "\n",
    "I had cleaned the data before, but when I looked at the data, I still need to change all the text to lower case. This is required as python interprets 'cat' and 'CAT' differently. And Tokenization: In this each entry in the data will be broken into set of words, which is more conducive to subsequent analysis, Remove Stop words and WordNetLemmatizer. the final cleaned data.\n"
   ]
  },
  {
   "cell_type": "code",
   "execution_count": 5,
   "id": "tbl-planets1",
   "metadata": {},
   "outputs": [
    {
     "data": {
      "text/html": [
       "<div>\n",
       "<style scoped>\n",
       "    .dataframe tbody tr th:only-of-type {\n",
       "        vertical-align: middle;\n",
       "    }\n",
       "\n",
       "    .dataframe tbody tr th {\n",
       "        vertical-align: top;\n",
       "    }\n",
       "\n",
       "    .dataframe thead th {\n",
       "        text-align: right;\n",
       "    }\n",
       "</style>\n",
       "<table border=\"1\" class=\"dataframe\">\n",
       "  <thead>\n",
       "    <tr style=\"text-align: right;\">\n",
       "      <th></th>\n",
       "      <th>final_tweets</th>\n",
       "      <th>label</th>\n",
       "      <th>text_final</th>\n",
       "    </tr>\n",
       "  </thead>\n",
       "  <tbody>\n",
       "    <tr>\n",
       "      <th>0</th>\n",
       "      <td>[TxCompleted, I, think, Id, lying, I, put, any...</td>\n",
       "      <td>0</td>\n",
       "      <td>['TxCompleted', 'I', 'think', 'Id', 'lie', 'I'...</td>\n",
       "    </tr>\n",
       "    <tr>\n",
       "      <th>1</th>\n",
       "      <td>[satoshinftclub, WHITELIST, amp, ETH, GIVEAWAY...</td>\n",
       "      <td>0</td>\n",
       "      <td>['satoshinftclub', 'WHITELIST', 'amp', 'ETH', ...</td>\n",
       "    </tr>\n",
       "    <tr>\n",
       "      <th>2</th>\n",
       "      <td>[wl, Notice, Minting, eleveneth, cryptobrighto...</td>\n",
       "      <td>0</td>\n",
       "      <td>['wl', 'Notice', 'Minting', 'eleveneth', 'cryp...</td>\n",
       "    </tr>\n",
       "    <tr>\n",
       "      <th>3</th>\n",
       "      <td>[MoonlitMonkey, THOmaximalist, THOChain, You, ...</td>\n",
       "      <td>0</td>\n",
       "      <td>['MoonlitMonkey', 'THOmaximalist', 'THOChain',...</td>\n",
       "    </tr>\n",
       "    <tr>\n",
       "      <th>4</th>\n",
       "      <td>[Did, know, On, average, BTC, million, mined, ...</td>\n",
       "      <td>1</td>\n",
       "      <td>['Did', 'know', 'On', 'average', 'BTC', 'milli...</td>\n",
       "    </tr>\n",
       "  </tbody>\n",
       "</table>\n",
       "</div>"
      ],
      "text/plain": [
       "                                        final_tweets  label  \\\n",
       "0  [TxCompleted, I, think, Id, lying, I, put, any...      0   \n",
       "1  [satoshinftclub, WHITELIST, amp, ETH, GIVEAWAY...      0   \n",
       "2  [wl, Notice, Minting, eleveneth, cryptobrighto...      0   \n",
       "3  [MoonlitMonkey, THOmaximalist, THOChain, You, ...      0   \n",
       "4  [Did, know, On, average, BTC, million, mined, ...      1   \n",
       "\n",
       "                                          text_final  \n",
       "0  ['TxCompleted', 'I', 'think', 'Id', 'lie', 'I'...  \n",
       "1  ['satoshinftclub', 'WHITELIST', 'amp', 'ETH', ...  \n",
       "2  ['wl', 'Notice', 'Minting', 'eleveneth', 'cryp...  \n",
       "3  ['MoonlitMonkey', 'THOmaximalist', 'THOChain',...  \n",
       "4  ['Did', 'know', 'On', 'average', 'BTC', 'milli...  "
      ]
     },
     "execution_count": 5,
     "metadata": {},
     "output_type": "execute_result"
    }
   ],
   "source": [
    "#| label: tbl-planets1\n",
    "#| tbl-cap: first 5 row of twitter final cleaned data\n",
    "data['final_tweets'].dropna(inplace=True)\n",
    "data.final_tweets.str.lower()\n",
    "data['final_tweets'] =data['final_tweets'].astype(str)\n",
    "data['final_tweets']= [word_tokenize(entry) for entry in data['final_tweets']]\n",
    "\n",
    "tag_map = defaultdict(lambda : wn.NOUN)\n",
    "tag_map['J'] = wn.ADJ\n",
    "tag_map['V'] = wn.VERB\n",
    "tag_map['R'] = wn.ADV\n",
    "for index,entry in enumerate(data['final_tweets']):\n",
    "    Final_words = []\n",
    "    word_Lemmatized = WordNetLemmatizer()\n",
    "    for word, tag in pos_tag(entry):\n",
    "        if word not in stopwords.words('english') and word.isalpha():\n",
    "            word_Final = word_Lemmatized.lemmatize(word,tag_map[tag[0]])\n",
    "            Final_words.append(word_Final)\n",
    "    data.loc[index,'text_final'] = str(Final_words)\n",
    "\n",
    "data.head(5)"
   ]
  },
  {
   "cell_type": "markdown",
   "id": "275a5175",
   "metadata": {},
   "source": [
    "*Step 5 - Split Train data and Text data*\n",
    "\n",
    "Twitter data will be split into two datasets, train data and test data. The train data will be used to fit the model and the test dataset will be used to predict. I will use train_test_split function in the sklearn library. I set the parameter test_size=0.2, which means that the training data will have 80% of the corpus and the test data will have the remaining 20%.\n"
   ]
  },
  {
   "cell_type": "code",
   "execution_count": 6,
   "id": "a653ea71",
   "metadata": {},
   "outputs": [],
   "source": [
    "X_train, X_test, y_train, y_test = model_selection.train_test_split(data['text_final'],data['label'],test_size=0.2,random_state=42)"
   ]
  },
  {
   "cell_type": "markdown",
   "id": "2adf75ed",
   "metadata": {},
   "source": [
    "#### Baseline Model for Comparison & Feature Selection\n",
    "Random Classifer to prdict y_test:"
   ]
  },
  {
   "cell_type": "code",
   "execution_count": 7,
   "id": "a157f4d6",
   "metadata": {},
   "outputs": [],
   "source": [
    "import random\n",
    "def generate_label_data(class_labels, weights,N=10000):\n",
    "    y=random.choices(class_labels, weights = weights, k = N)\n",
    "    return y"
   ]
  },
  {
   "cell_type": "code",
   "execution_count": 8,
   "id": "aafbd997",
   "metadata": {},
   "outputs": [],
   "source": [
    "all_len=len(y_test)\n",
    "len_0=len(y_test[y_test==0])\n",
    "len_1=len(y_test[y_test==1])\n",
    "pro_label_y_0=len_0/all_len\n",
    "pro_label_y_1=len_1/all_len\n",
    "y=generate_label_data([0,1],[pro_label_y_0,pro_label_y_1],all_len)\n",
    "y_pred = y\n",
    "y_true = y_test"
   ]
  },
  {
   "cell_type": "markdown",
   "id": "76192452",
   "metadata": {},
   "source": [
    "The accuracy after running the random classifier is 0.75.  \n",
    "\n",
    "Display the classification report for test data to random classifer."
   ]
  },
  {
   "cell_type": "code",
   "execution_count": 9,
   "id": "tbl-planets9",
   "metadata": {},
   "outputs": [
    {
     "data": {
      "text/html": [
       "<div>\n",
       "<style scoped>\n",
       "    .dataframe tbody tr th:only-of-type {\n",
       "        vertical-align: middle;\n",
       "    }\n",
       "\n",
       "    .dataframe tbody tr th {\n",
       "        vertical-align: top;\n",
       "    }\n",
       "\n",
       "    .dataframe thead th {\n",
       "        text-align: right;\n",
       "    }\n",
       "</style>\n",
       "<table border=\"1\" class=\"dataframe\">\n",
       "  <thead>\n",
       "    <tr style=\"text-align: right;\">\n",
       "      <th></th>\n",
       "      <th>precision</th>\n",
       "      <th>recall</th>\n",
       "      <th>f1-score</th>\n",
       "      <th>support</th>\n",
       "    </tr>\n",
       "  </thead>\n",
       "  <tbody>\n",
       "    <tr>\n",
       "      <th>0</th>\n",
       "      <td>0.850000</td>\n",
       "      <td>0.874286</td>\n",
       "      <td>0.861972</td>\n",
       "      <td>175.000000</td>\n",
       "    </tr>\n",
       "    <tr>\n",
       "      <th>1</th>\n",
       "      <td>0.153846</td>\n",
       "      <td>0.129032</td>\n",
       "      <td>0.140351</td>\n",
       "      <td>31.000000</td>\n",
       "    </tr>\n",
       "    <tr>\n",
       "      <th>accuracy</th>\n",
       "      <td>0.762136</td>\n",
       "      <td>0.762136</td>\n",
       "      <td>0.762136</td>\n",
       "      <td>0.762136</td>\n",
       "    </tr>\n",
       "    <tr>\n",
       "      <th>macro avg</th>\n",
       "      <td>0.501923</td>\n",
       "      <td>0.501659</td>\n",
       "      <td>0.501161</td>\n",
       "      <td>206.000000</td>\n",
       "    </tr>\n",
       "    <tr>\n",
       "      <th>weighted avg</th>\n",
       "      <td>0.745239</td>\n",
       "      <td>0.762136</td>\n",
       "      <td>0.753378</td>\n",
       "      <td>206.000000</td>\n",
       "    </tr>\n",
       "  </tbody>\n",
       "</table>\n",
       "</div>"
      ],
      "text/plain": [
       "              precision    recall  f1-score     support\n",
       "0              0.850000  0.874286  0.861972  175.000000\n",
       "1              0.153846  0.129032  0.140351   31.000000\n",
       "accuracy       0.762136  0.762136  0.762136    0.762136\n",
       "macro avg      0.501923  0.501659  0.501161  206.000000\n",
       "weighted avg   0.745239  0.762136  0.753378  206.000000"
      ]
     },
     "execution_count": 9,
     "metadata": {},
     "output_type": "execute_result"
    }
   ],
   "source": [
    "#| label: tbl-planets9\n",
    "#| tbl-cap: the classification report for test data-random classifer\n",
    "class_report_test_random=classification_report(y_true,y_pred, output_dict=True)\n",
    "class_report_test_random=pd.DataFrame(class_report_test_random).transpose()\n",
    "class_report_test_random"
   ]
  },
  {
   "cell_type": "markdown",
   "id": "527f82f7",
   "metadata": {},
   "source": [
    "#### Feature Selection & Model Tuning\n",
    "\n",
    "I transformed the text data into vectors that the model can understand, by using the TF-IDF approach.\n",
    "The following code can be used to first fit the TG-IDF model across the data. This will help TF-IDF build a vocabulary that it learns from the data and will assign a unique integer to each word. I set the parameter max_features=5000, which means the vocabulary will have a maximum of 5000 unique words/features. I converted X_train，X_test to vectors X_train_Tfidf and X_test_Tfidf. After the transformation, the dataset can be fed into the SVM classification algorithm.\n"
   ]
  },
  {
   "cell_type": "code",
   "execution_count": 10,
   "id": "6778aa6a",
   "metadata": {},
   "outputs": [],
   "source": [
    "Tfidf_vect = TfidfVectorizer(max_features=5000)\n",
    "Tfidf_vect.fit(data['text_final'])\n",
    "X_train_Tfidf = Tfidf_vect.transform(X_train)\n",
    "X_test_Tfidf = Tfidf_vect.transform(X_test)"
   ]
  },
  {
   "cell_type": "markdown",
   "id": "6a68ac72",
   "metadata": {},
   "source": [
    "Set a function to calculate ACCURACY, Recall and precision score."
   ]
  },
  {
   "cell_type": "code",
   "execution_count": 11,
   "id": "4af4853f",
   "metadata": {},
   "outputs": [],
   "source": [
    "def confusion_plot(y_data,y_pred):\n",
    "    \n",
    "    print(\"ACCURACY:\", accuracy_score(y_data,y_pred))\n",
    "    print(\"NEGATIVE RECALL (Y=0):\",recall_score(y_data,y_pred,pos_label=0))\n",
    "    print(\"NEGATIVE PRECISION (Y=0):\",precision_score(y_data,y_pred,pos_label=0))\n",
    "    print(\"POSITIVE RECALL (Y=1):\",recall_score(y_data,y_pred,pos_label=1))\n",
    "    print(\"POSITIVE PRECISION (Y=1):\",precision_score(y_data,y_pred,pos_label=1))"
   ]
  },
  {
   "cell_type": "markdown",
   "id": "f9fcd9c3",
   "metadata": {},
   "source": [
    "#### Final Results\n",
    "\n",
    "SVM with Linear kernels: The linear kernel, which produces linear classification bounds, is generally the most computationally efficient and requires the least data. linear function. Fit the classifier on the training data and predict on the test data. Set the classifier to be linear and C equal to 0.5.\n"
   ]
  },
  {
   "cell_type": "code",
   "execution_count": 12,
   "id": "54e80ae1",
   "metadata": {},
   "outputs": [
    {
     "name": "stdout",
     "output_type": "stream",
     "text": [
      "SVM TEST DATA SUMMARY-Linear Kernels\n",
      "ACCURACY: 0.9271844660194175\n",
      "NEGATIVE RECALL (Y=0): 0.9210526315789473\n",
      "NEGATIVE PRECISION (Y=0): 1.0\n",
      "POSITIVE RECALL (Y=1): 1.0\n",
      "POSITIVE PRECISION (Y=1): 0.5161290322580645\n"
     ]
    }
   ],
   "source": [
    "C = 0.5 \n",
    "model_linear = SVC(kernel=\"linear\",C=0.5)\n",
    "model_linear.fit(X_train_Tfidf, y_train)\n",
    "\n",
    "yp_test = model_linear.predict(X_test_Tfidf)\n",
    "print(\"SVM TEST DATA SUMMARY-Linear Kernels\")\n",
    "confusion_plot(yp_test, y_test)"
   ]
  },
  {
   "cell_type": "markdown",
   "id": "2b32f9c7",
   "metadata": {},
   "source": [
    "Display the classification report for test data.\n"
   ]
  },
  {
   "cell_type": "code",
   "execution_count": 13,
   "id": "tbl-planets2",
   "metadata": {},
   "outputs": [
    {
     "data": {
      "text/html": [
       "<div>\n",
       "<style scoped>\n",
       "    .dataframe tbody tr th:only-of-type {\n",
       "        vertical-align: middle;\n",
       "    }\n",
       "\n",
       "    .dataframe tbody tr th {\n",
       "        vertical-align: top;\n",
       "    }\n",
       "\n",
       "    .dataframe thead th {\n",
       "        text-align: right;\n",
       "    }\n",
       "</style>\n",
       "<table border=\"1\" class=\"dataframe\">\n",
       "  <thead>\n",
       "    <tr style=\"text-align: right;\">\n",
       "      <th></th>\n",
       "      <th>precision</th>\n",
       "      <th>recall</th>\n",
       "      <th>f1-score</th>\n",
       "      <th>support</th>\n",
       "    </tr>\n",
       "  </thead>\n",
       "  <tbody>\n",
       "    <tr>\n",
       "      <th>0</th>\n",
       "      <td>0.921053</td>\n",
       "      <td>1.000000</td>\n",
       "      <td>0.958904</td>\n",
       "      <td>175.000000</td>\n",
       "    </tr>\n",
       "    <tr>\n",
       "      <th>1</th>\n",
       "      <td>1.000000</td>\n",
       "      <td>0.516129</td>\n",
       "      <td>0.680851</td>\n",
       "      <td>31.000000</td>\n",
       "    </tr>\n",
       "    <tr>\n",
       "      <th>accuracy</th>\n",
       "      <td>0.927184</td>\n",
       "      <td>0.927184</td>\n",
       "      <td>0.927184</td>\n",
       "      <td>0.927184</td>\n",
       "    </tr>\n",
       "    <tr>\n",
       "      <th>macro avg</th>\n",
       "      <td>0.960526</td>\n",
       "      <td>0.758065</td>\n",
       "      <td>0.819878</td>\n",
       "      <td>206.000000</td>\n",
       "    </tr>\n",
       "    <tr>\n",
       "      <th>weighted avg</th>\n",
       "      <td>0.932933</td>\n",
       "      <td>0.927184</td>\n",
       "      <td>0.917061</td>\n",
       "      <td>206.000000</td>\n",
       "    </tr>\n",
       "  </tbody>\n",
       "</table>\n",
       "</div>"
      ],
      "text/plain": [
       "              precision    recall  f1-score     support\n",
       "0              0.921053  1.000000  0.958904  175.000000\n",
       "1              1.000000  0.516129  0.680851   31.000000\n",
       "accuracy       0.927184  0.927184  0.927184    0.927184\n",
       "macro avg      0.960526  0.758065  0.819878  206.000000\n",
       "weighted avg   0.932933  0.927184  0.917061  206.000000"
      ]
     },
     "execution_count": 13,
     "metadata": {},
     "output_type": "execute_result"
    }
   ],
   "source": [
    "#| label: tbl-planets2\n",
    "#| tbl-cap: the classification report for test data(linear)\n",
    "class_report_test=classification_report(y_test,yp_test, output_dict=True)\n",
    "class_report_test=pd.DataFrame(class_report_test).transpose()\n",
    "class_report_test"
   ]
  },
  {
   "cell_type": "markdown",
   "id": "12b77996",
   "metadata": {},
   "source": [
    "Display Confusion Matrix for the test data.\n"
   ]
  },
  {
   "cell_type": "code",
   "execution_count": 14,
   "id": "fig-polar1",
   "metadata": {},
   "outputs": [
    {
     "data": {
      "image/png": "[encoded data removed]",
      "text/plain": [
       "<Figure size 672x480 with 2 Axes>"
      ]
     },
     "metadata": {
      "image/png": {
       "height": 422,
       "width": 496
      },
      "needs_background": "light"
     },
     "output_type": "display_data"
    }
   ],
   "source": [
    "#| label: fig-polar1\n",
    "#| fig-cap: confusion matrix for test data(linear)\n",
    "\n",
    "cm_test=confusion_matrix(y_test,yp_test)\n",
    "disp_test = ConfusionMatrixDisplay(confusion_matrix=cm_test,display_labels=model_linear.classes_)\n",
    "disp_test.plot()\n",
    "plt.show()"
   ]
  },
  {
   "cell_type": "markdown",
   "id": "66e371ac",
   "metadata": {},
   "source": [
    "From the classification report for test data and the consusion matrix, the accuracy of this SVM model with linear kernal is 0.927184, which is very high.\n",
    "\n",
    "Although SVM usually performs well, it is very sensitive to parameter settings and data scaling. If you want to improve the model accuracy, I try rbf kenel, radial basis function, also known as Gaussian kernel, which is based on the distance to each support vector to determine the classification boundary, it can map to infinite dimensions and is the most flexible method, but also requires the most data. It is prone to overfitting problems. Exponential function. The smaller the C value, the stronger the regularization effect. The more trained the model is more generalized, but also more likely to be under-fitted. Hence, I choose the value of c is 1000.\n"
   ]
  },
  {
   "cell_type": "code",
   "execution_count": 15,
   "id": "6107c659",
   "metadata": {},
   "outputs": [
    {
     "name": "stdout",
     "output_type": "stream",
     "text": [
      "SVM TEST DATA SUMMARY -RBF Kernels\n",
      "ACCURACY: 0.9320388349514563\n",
      "NEGATIVE RECALL (Y=0): 0.9259259259259259\n",
      "NEGATIVE PRECISION (Y=0): 1.0\n",
      "POSITIVE RECALL (Y=1): 1.0\n",
      "POSITIVE PRECISION (Y=1): 0.5483870967741935\n"
     ]
    }
   ],
   "source": [
    "model_rbf = SVC(kernel=\"rbf\",C=1000)\n",
    "model_rbf.fit(X_train_Tfidf, y_train)\n",
    "\n",
    "yp_test_rbf = model_rbf.predict(X_test_Tfidf)\n",
    "print(\"SVM TEST DATA SUMMARY -RBF Kernels\")\n",
    "confusion_plot(yp_test_rbf, y_test)"
   ]
  },
  {
   "cell_type": "markdown",
   "id": "1dfcd22c",
   "metadata": {},
   "source": [
    "Display the classification report for test data.\n"
   ]
  },
  {
   "cell_type": "code",
   "execution_count": 16,
   "id": "tbl-planets3",
   "metadata": {},
   "outputs": [
    {
     "data": {
      "text/html": [
       "<div>\n",
       "<style scoped>\n",
       "    .dataframe tbody tr th:only-of-type {\n",
       "        vertical-align: middle;\n",
       "    }\n",
       "\n",
       "    .dataframe tbody tr th {\n",
       "        vertical-align: top;\n",
       "    }\n",
       "\n",
       "    .dataframe thead th {\n",
       "        text-align: right;\n",
       "    }\n",
       "</style>\n",
       "<table border=\"1\" class=\"dataframe\">\n",
       "  <thead>\n",
       "    <tr style=\"text-align: right;\">\n",
       "      <th></th>\n",
       "      <th>precision</th>\n",
       "      <th>recall</th>\n",
       "      <th>f1-score</th>\n",
       "      <th>support</th>\n",
       "    </tr>\n",
       "  </thead>\n",
       "  <tbody>\n",
       "    <tr>\n",
       "      <th>0</th>\n",
       "      <td>0.925926</td>\n",
       "      <td>1.000000</td>\n",
       "      <td>0.961538</td>\n",
       "      <td>175.000000</td>\n",
       "    </tr>\n",
       "    <tr>\n",
       "      <th>1</th>\n",
       "      <td>1.000000</td>\n",
       "      <td>0.548387</td>\n",
       "      <td>0.708333</td>\n",
       "      <td>31.000000</td>\n",
       "    </tr>\n",
       "    <tr>\n",
       "      <th>accuracy</th>\n",
       "      <td>0.932039</td>\n",
       "      <td>0.932039</td>\n",
       "      <td>0.932039</td>\n",
       "      <td>0.932039</td>\n",
       "    </tr>\n",
       "    <tr>\n",
       "      <th>macro avg</th>\n",
       "      <td>0.962963</td>\n",
       "      <td>0.774194</td>\n",
       "      <td>0.834936</td>\n",
       "      <td>206.000000</td>\n",
       "    </tr>\n",
       "    <tr>\n",
       "      <th>weighted avg</th>\n",
       "      <td>0.937073</td>\n",
       "      <td>0.932039</td>\n",
       "      <td>0.923435</td>\n",
       "      <td>206.000000</td>\n",
       "    </tr>\n",
       "  </tbody>\n",
       "</table>\n",
       "</div>"
      ],
      "text/plain": [
       "              precision    recall  f1-score     support\n",
       "0              0.925926  1.000000  0.961538  175.000000\n",
       "1              1.000000  0.548387  0.708333   31.000000\n",
       "accuracy       0.932039  0.932039  0.932039    0.932039\n",
       "macro avg      0.962963  0.774194  0.834936  206.000000\n",
       "weighted avg   0.937073  0.932039  0.923435  206.000000"
      ]
     },
     "execution_count": 16,
     "metadata": {},
     "output_type": "execute_result"
    }
   ],
   "source": [
    "#| label: tbl-planets3\n",
    "#| tbl-cap: the classification report for test data(rbf)\n",
    "class_report_test_rbf=classification_report(y_test,yp_test_rbf, output_dict=True)\n",
    "class_report_test_rbf=pd.DataFrame(class_report_test_rbf).transpose()\n",
    "class_report_test_rbf"
   ]
  },
  {
   "cell_type": "markdown",
   "id": "7bc10133",
   "metadata": {},
   "source": [
    "Display Confusion Matrix for the test data.\n"
   ]
  },
  {
   "cell_type": "code",
   "execution_count": 17,
   "id": "fig-polar2",
   "metadata": {},
   "outputs": [
    {
     "data": {
      "image/png": "[encoded data removed]",
      "text/plain": [
       "<Figure size 672x480 with 2 Axes>"
      ]
     },
     "metadata": {
      "image/png": {
       "height": 422,
       "width": 496
      },
      "needs_background": "light"
     },
     "output_type": "display_data"
    }
   ],
   "source": [
    "#| label: fig-polar2\n",
    "#| fig-cap: confusion matrix for test data(rbf)\n",
    "cm_test_rbf=confusion_matrix(y_test,yp_test_rbf)\n",
    "disp_test_rbf = ConfusionMatrixDisplay(confusion_matrix=cm_test_rbf,display_labels=model_linear.classes_)\n",
    "disp_test_rbf.plot()\n",
    "plt.show()"
   ]
  },
  {
   "cell_type": "markdown",
   "id": "37827c3f",
   "metadata": {},
   "source": [
    "From the classification report for test data and the consusion matrix, the accuracy of this SVM model with rbf kernal is 0.932039, which is slightly higher than the result from the linear model.\n",
    "\n",
    "\n",
    "#### Conclusion\n",
    "\n",
    "From the above SVM model, we can see that the model is very effective in predicting sentiment analysis. After collecting a certain amount of data, the SVM model is more accurate than the NB model but is relatively time-consuming. \n",
    "\n",
    "SVM is a very powerful model and performs well on a variety of datasets. SVM allows decision bounds to be complex, even if the data has only a few features. It performs well on data with few features and many features, but does not perform well for scaling the number of samples. Running SVM on data with up to 10,000 samples may perform well, but if the amount of data reaches 1,000,000 rows or even larger, there may be challenges in terms of runtime and memory usage. another disadvantage of SVM is that pre-processing the data and tuning the parameters requires great care. For example, random forests require little or no preprocessing.\n",
    "\n",
    "###### Pro and Cons\n",
    "\n",
    "Advantages: good adaptation to high-dimensional spaces; good performance even when the number of data dimensions is larger than the number of samples; only a subset of the training set is required.\n",
    "\n",
    "Disadvantages: SVM performs poorly if the number of features of the data is much larger than the number of samples; SVM does not directly provide quantitative likelihood predictions, these are usually achieved through cross-validation methods."
   ]
  }
 ],
 "metadata": {
  "kernelspec": {
   "display_name": "Python 3 (ipykernel)",
   "language": "python",
   "name": "python3"
  },
  "language_info": {
   "codemirror_mode": {
    "name": "ipython",
    "version": 3
   },
   "file_extension": ".py",
   "mimetype": "text/x-python",
   "name": "python",
   "nbconvert_exporter": "python",
   "pygments_lexer": "ipython3",
   "version": "3.9.12"
  }
 },
 "nbformat": 4,
 "nbformat_minor": 5
}
